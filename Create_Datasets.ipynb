{
 "cells": [
  {
   "cell_type": "code",
   "execution_count": 1,
   "metadata": {},
   "outputs": [],
   "source": [
    "import nltk\n",
    "import numpy as np\n",
    "import pickle as pkl\n",
    "import pandas as pd\n",
    "import copy\n",
    "import time\n",
    "import os\n",
    "from nltk.tokenize import word_tokenize, sent_tokenize"
   ]
  },
  {
   "cell_type": "code",
   "execution_count": 2,
   "metadata": {},
   "outputs": [
    {
     "name": "stdout",
     "output_type": "stream",
     "text": [
      "{1: 'Company', 2: 'EducationalInstitution', 3: 'Artist', 4: 'Athlete', 5: 'OfficeHolder', 6: 'MeanOfTransportation', 7: 'Building', 8: 'NaturalPlace', 9: 'Village', 10: 'Animal', 11: 'Plant', 12: 'Album', 13: 'Film', 14: 'WrittenWork'}\n"
     ]
    }
   ],
   "source": [
    "class_mapping = {}\n",
    "with open('dbpedia_csv/classes.txt') as txt_file:\n",
    "    line_num = 1\n",
    "    for line in txt_file:\n",
    "        class_mapping[line_num] = line.strip()\n",
    "        line_num+=1\n",
    "        \n",
    "print(class_mapping)"
   ]
  },
  {
   "cell_type": "code",
   "execution_count": 3,
   "metadata": {},
   "outputs": [],
   "source": [
    "train_data = pd.read_csv('dbpedia_csv/train.csv', header = -1, names = ['ClassIndex', 'Title', 'Content'])\n",
    "test_data = pd.read_csv('dbpedia_csv/test.csv', header = -1, names = ['ClassIndex', 'Title', 'Content'])"
   ]
  },
  {
   "cell_type": "code",
   "execution_count": 4,
   "metadata": {},
   "outputs": [],
   "source": [
    "training_array = train_data.drop(labels = 'Title', axis = 1).values\n",
    "test_array = test_data.drop(labels = 'Title', axis = 1).values"
   ]
  },
  {
   "cell_type": "code",
   "execution_count": 10,
   "metadata": {
    "scrolled": true
   },
   "outputs": [
    {
     "name": "stdout",
     "output_type": "stream",
     "text": [
      "Elapsed time: 0.40436224540074667\n",
      "Elapsed time: 0.821736752986908\n",
      "Elapsed time: 1.215203829606374\n",
      "Elapsed time: 1.5890655517578125\n",
      "Elapsed time: 2.0093705296516418\n",
      "Elapsed time: 2.4438748598098754\n",
      "Elapsed time: 2.934901773929596\n",
      "Elapsed time: 3.290975852807363\n",
      "Elapsed time: 3.6402346452077228\n",
      "Elapsed time: 3.965379869937897\n",
      "Elapsed time: 4.363205095132192\n",
      "Elapsed time: 4.777144082387289\n",
      "Elapsed time: 5.185762095451355\n",
      "Elapsed time: 5.63558255036672\n"
     ]
    }
   ],
   "source": [
    "ID_count = 0\n",
    "partition = {}\n",
    "partition['train'] = []\n",
    "partition['validation'] = []\n",
    "labels = {}\n",
    "\n",
    "start = time.time()\n",
    "for i in range(len(class_mapping)):\n",
    "    class_index = i+1\n",
    "    train_count = 0\n",
    "    num_sent = 0\n",
    "    sample_vec = []\n",
    "    for j in range(len(training_array)):\n",
    "        if training_array[j,0] == class_index:\n",
    "            par_vec = []\n",
    "            for cur_word in word_tokenize(training_array[j,1]):\n",
    "                par_vec.append(cur_word)\n",
    "                sample_vec.append(copy.copy(par_vec))\n",
    "                if (train_count+1)%32 == 0:\n",
    "                    pkl.dump((class_index, sample_vec), open('Training/'+str(ID_count), 'wb'))\n",
    "                    labels[str(ID_count)] = class_index\n",
    "                    sample_vec = []\n",
    "                    if num_sent < 35000:\n",
    "                        partition['train'].append(str(ID_count))\n",
    "                    else:\n",
    "                        partition['validation'].append(str(ID_count))\n",
    "                    ID_count += 1\n",
    "                train_count += 1\n",
    "            num_sent += 1\n",
    "    print('Elapsed time: {}'.format((time.time()-start)/60))\n",
    "pkl.dump((partition, labels),open('Training/Metadata', 'wb'))"
   ]
  },
  {
   "cell_type": "code",
   "execution_count": 14,
   "metadata": {},
   "outputs": [
    {
     "name": "stdout",
     "output_type": "stream",
     "text": [
      "Elapsed time: 0.26567095120747886\n",
      "Elapsed time: 0.5692348043123882\n",
      "Elapsed time: 0.8823874950408935\n",
      "Elapsed time: 1.1735702276229858\n",
      "Elapsed time: 1.4765604694684347\n",
      "Elapsed time: 1.7998019615809122\n",
      "Elapsed time: 2.1730777740478517\n",
      "Elapsed time: 2.4402572830518086\n",
      "Elapsed time: 2.6664554437001544\n",
      "Elapsed time: 2.8730860074361164\n",
      "Elapsed time: 3.1306859930356343\n",
      "Elapsed time: 3.418167742093404\n",
      "Elapsed time: 3.7059060454368593\n",
      "Elapsed time: 3.9970598816871643\n"
     ]
    }
   ],
   "source": [
    "start = time.time()\n",
    "for i in range(len(class_mapping)):\n",
    "    class_index = i+1\n",
    "    test_count = 0\n",
    "    for j in range(len(test_array)):\n",
    "        if test_array[j,0] == class_index:\n",
    "            par_vec = []\n",
    "            for cur_word in word_tokenize(test_array[j,1]):\n",
    "                par_vec.append(cur_word)\n",
    "                sample_len = len(par_vec)\n",
    "                if not os.path.exists('Testing/Class{}/{}'.format(class_index,sample_len)):\n",
    "                    os.makedirs('Testing/Class{}/{}'.format(class_index,sample_len))\n",
    "                pkl.dump((class_index, par_vec), open('Testing/Class{}/{}/{}'.format(class_index, sample_len, test_count),'wb'))\n",
    "                test_count += 1\n",
    "    print('Elapsed time: {}'.format((time.time()-start)/60))"
   ]
  }
 ],
 "metadata": {
  "kernelspec": {
   "display_name": "Python 3",
   "language": "python",
   "name": "python3"
  },
  "language_info": {
   "codemirror_mode": {
    "name": "ipython",
    "version": 3
   },
   "file_extension": ".py",
   "mimetype": "text/x-python",
   "name": "python",
   "nbconvert_exporter": "python",
   "pygments_lexer": "ipython3",
   "version": "3.7.0"
  }
 },
 "nbformat": 4,
 "nbformat_minor": 2
}
