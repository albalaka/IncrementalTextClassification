{
 "cells": [
  {
   "cell_type": "code",
   "execution_count": null,
   "metadata": {},
   "outputs": [],
   "source": [
    "import nltk\n",
    "import numpy as np\n",
    "import pickle as pkl\n",
    "import pandas as pd\n",
    "import copy\n",
    "import time\n",
    "import os\n",
    "from nltk.tokenize import word_tokenize, sent_tokenize"
   ]
  },
  {
   "cell_type": "code",
   "execution_count": null,
   "metadata": {},
   "outputs": [],
   "source": [
    "class_mapping = {}\n",
    "with open('dbpedia_csv/classes.txt') as txt_file:\n",
    "    line_num = 1\n",
    "    for line in txt_file:\n",
    "        class_mapping[line_num] = line.strip()\n",
    "        line_num+=1\n",
    "        \n",
    "print(class_mapping)"
   ]
  },
  {
   "cell_type": "code",
   "execution_count": null,
   "metadata": {},
   "outputs": [],
   "source": [
    "train_data = pd.read_csv('dbpedia_csv/train.csv', header = -1, names = ['ClassIndex', 'Title', 'Content'])\n",
    "test_data = pd.read_csv('dbpedia_csv/test.csv', header = -1, names = ['ClassIndex', 'Title', 'Content'])"
   ]
  },
  {
   "cell_type": "code",
   "execution_count": null,
   "metadata": {},
   "outputs": [],
   "source": [
    "training_array = train_data.drop(labels = 'Title', axis = 1).values\n",
    "test_array = test_data.drop(labels = 'Title', axis = 1).values"
   ]
  },
  {
   "cell_type": "markdown",
   "metadata": {},
   "source": [
    "### Create training dataset"
   ]
  },
  {
   "cell_type": "code",
   "execution_count": null,
   "metadata": {
    "scrolled": true
   },
   "outputs": [],
   "source": [
    "ID_count = 0\n",
    "partition = {}\n",
    "partition['train'] = []\n",
    "partition['validation'] = []\n",
    "labels = {}\n",
    "\n",
    "start = time.time()\n",
    "for i in range(len(class_mapping)):\n",
    "    class_index = i+1\n",
    "    train_count = 0\n",
    "    num_sent = 0\n",
    "    sample_vec = []\n",
    "    for j in range(len(training_array)):\n",
    "        if training_array[j,0] == class_index:\n",
    "            par_vec = []\n",
    "            for cur_word in word_tokenize(training_array[j,1]):\n",
    "                par_vec.append(cur_word)\n",
    "                sample_vec.append(copy.copy(par_vec))\n",
    "                if (train_count+1)%32 == 0:\n",
    "                    pkl.dump((class_index, sample_vec), open('Training/'+str(ID_count), 'wb'))\n",
    "                    labels[str(ID_count)] = class_index\n",
    "                    sample_vec = []\n",
    "                    if num_sent < 35000:\n",
    "                        partition['train'].append(str(ID_count))\n",
    "                    else:\n",
    "                        partition['validation'].append(str(ID_count))\n",
    "                    ID_count += 1\n",
    "                train_count += 1\n",
    "            num_sent += 1\n",
    "    print('Elapsed time: {}'.format((time.time()-start)/60))\n",
    "pkl.dump((partition, labels),open('Training/Metadata', 'wb'))"
   ]
  },
  {
   "cell_type": "markdown",
   "metadata": {},
   "source": [
    "### Create testing dataset"
   ]
  },
  {
   "cell_type": "code",
   "execution_count": null,
   "metadata": {},
   "outputs": [],
   "source": [
    "start = time.time()\n",
    "for i in range(len(class_mapping)):\n",
    "    class_index = i+1\n",
    "    test_count = 0\n",
    "    for j in range(len(test_array)):\n",
    "        if test_array[j,0] == class_index:\n",
    "            par_vec = []\n",
    "            for cur_word in word_tokenize(test_array[j,1]):\n",
    "                par_vec.append(cur_word)\n",
    "                sample_len = len(par_vec)\n",
    "                if not os.path.exists('Testing/Class{}/{}'.format(class_index,sample_len)):\n",
    "                    os.makedirs('Testing/Class{}/{}'.format(class_index,sample_len))\n",
    "                pkl.dump((class_index, par_vec), open('Testing/Class{}/{}/{}'.format(class_index, sample_len, test_count),'wb'))\n",
    "                test_count += 1\n",
    "    print('Elapsed time: {}'.format((time.time()-start)/60))"
   ]
  }
 ],
 "metadata": {
  "kernelspec": {
   "display_name": "Python 3",
   "language": "python",
   "name": "python3"
  },
  "language_info": {
   "codemirror_mode": {
    "name": "ipython",
    "version": 3
   },
   "file_extension": ".py",
   "mimetype": "text/x-python",
   "name": "python",
   "nbconvert_exporter": "python",
   "pygments_lexer": "ipython3",
   "version": "3.7.0"
  }
 },
 "nbformat": 4,
 "nbformat_minor": 2
}
